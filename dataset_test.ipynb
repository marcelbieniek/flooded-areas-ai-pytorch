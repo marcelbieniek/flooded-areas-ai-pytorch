{
 "cells": [
  {
   "cell_type": "code",
   "execution_count": 2,
   "metadata": {},
   "outputs": [],
   "source": [
    "import torch\n",
    "from torch import nn\n",
    "from torch.utils.data import DataLoader\n",
    "from torchvision import datasets\n",
    "from torchvision import transforms\n",
    "\n",
    "import os\n",
    "import sys\n",
    "from pathlib import Path\n",
    "modules_path = os.path.abspath(\".\")\n",
    "if modules_path not in sys.path:\n",
    "    sys.path.append(modules_path)\n",
    "\n",
    "from data.FloodNet import FloodNetDataset"
   ]
  },
  {
   "cell_type": "code",
   "execution_count": 3,
   "metadata": {},
   "outputs": [
    {
     "name": "stdout",
     "output_type": "stream",
     "text": [
      "Using cuda device\n"
     ]
    }
   ],
   "source": [
    "device = (\n",
    "    \"cuda\" if torch.cuda.is_available()\n",
    "    else \"mps\" if torch.backends.mps.is_available()\n",
    "    else \"cpu\"\n",
    ")\n",
    "\n",
    "print(f\"Using {device} device\")"
   ]
  },
  {
   "cell_type": "code",
   "execution_count": 4,
   "metadata": {},
   "outputs": [],
   "source": [
    "transform = transforms.Compose([\n",
    "    transforms.Resize((28, 28)),  # Resize the image to 224x224 (adjust to fit your model)\n",
    "    transforms.ToTensor(),  # Convert image to a PyTorch Tensor\n",
    "    transforms.Normalize(mean=[0.485, 0.456, 0.406],  # Normalize with ImageNet mean and std\n",
    "                         std=[0.229, 0.224, 0.225])\n",
    "])"
   ]
  },
  {
   "cell_type": "code",
   "execution_count": 5,
   "metadata": {},
   "outputs": [],
   "source": [
    "# Create train dataset\n",
    "train_images_dir = Path(\"./data/FloodNet_dataset/train/image\")\n",
    "train_csv_file = Path(\"./data/flood_train_rel_paths.csv\")\n",
    "train_data = FloodNetDataset(annotations_file=train_csv_file, img_dir=train_images_dir, transform=transform)\n",
    "\n",
    "# Create test dataset\n",
    "test_images_dir = Path(\"./data/FloodNet_dataset/test/image\")\n",
    "test_csv_file = Path(\"./data/flood_test_rel_paths.csv\")\n",
    "test_data = FloodNetDataset(annotations_file=test_csv_file, img_dir=test_images_dir, transform=transform)"
   ]
  },
  {
   "cell_type": "code",
   "execution_count": 6,
   "metadata": {},
   "outputs": [],
   "source": [
    "batch_size = 64\n",
    "\n",
    "train_dataloader = DataLoader(train_data, batch_size=batch_size, shuffle=True)\n",
    "test_dataloader = DataLoader(test_data, batch_size=batch_size, shuffle=False)"
   ]
  },
  {
   "cell_type": "code",
   "execution_count": null,
   "metadata": {},
   "outputs": [],
   "source": [
    "for X, y in train_dataloader:\n",
    "    print(f\"Shape of train X [N, C, H, W]: {X.shape}\")\n",
    "    print(f\"Shape of train y: {y.shape} {y.dtype}\")\n",
    "    break\n",
    "\n",
    "for X, y in test_dataloader:\n",
    "    print(f\"Shape of test X [N, C, H, W]: {X.shape}\")\n",
    "    print(f\"Shape of test y: {y.shape} {y.dtype}\")\n",
    "    break"
   ]
  },
  {
   "cell_type": "code",
   "execution_count": 7,
   "metadata": {},
   "outputs": [],
   "source": [
    "class NeuralNetwork(nn.Module):\n",
    "    def __init__(self):\n",
    "        super().__init__()\n",
    "        self.flatten = nn.Flatten()\n",
    "        self.linear_relu_stack = nn.Sequential(\n",
    "            nn.Linear(28*28*3, 512),\n",
    "            nn.ReLU(),\n",
    "            nn.Linear(512, 512),\n",
    "            nn.ReLU(),\n",
    "            nn.Linear(512, 1)\n",
    "        )\n",
    "\n",
    "    def forward(self, x):\n",
    "        # x = self.flatten(x)\n",
    "        # logits = self.linear_relu_stack(x)\n",
    "        # return logits\n",
    "        return self.linear_relu_stack(self.flatten(x))"
   ]
  },
  {
   "cell_type": "code",
   "execution_count": 8,
   "metadata": {},
   "outputs": [
    {
     "name": "stdout",
     "output_type": "stream",
     "text": [
      "NeuralNetwork(\n",
      "  (flatten): Flatten(start_dim=1, end_dim=-1)\n",
      "  (linear_relu_stack): Sequential(\n",
      "    (0): Linear(in_features=2352, out_features=512, bias=True)\n",
      "    (1): ReLU()\n",
      "    (2): Linear(in_features=512, out_features=512, bias=True)\n",
      "    (3): ReLU()\n",
      "    (4): Linear(in_features=512, out_features=1, bias=True)\n",
      "  )\n",
      ")\n"
     ]
    }
   ],
   "source": [
    "model = NeuralNetwork().to(device)\n",
    "print(model)"
   ]
  },
  {
   "cell_type": "code",
   "execution_count": 9,
   "metadata": {},
   "outputs": [],
   "source": [
    "loss_fn = nn.BCEWithLogitsLoss()\n",
    "optimizer = torch.optim.Adam(model.parameters(), lr=1e-3)"
   ]
  },
  {
   "cell_type": "code",
   "execution_count": 10,
   "metadata": {},
   "outputs": [],
   "source": [
    "def train(dataloader: DataLoader, model, loss_fn, optimizer):\n",
    "    print(\"Training...\")\n",
    "    size = len(dataloader.dataset)\n",
    "    current = 0\n",
    "    model.train()\n",
    "    # print(f\"num batches: {len(dataloader)}\")\n",
    "    for batch, (X, y) in enumerate(dataloader):\n",
    "        X, y = X.to(device), y.to(device).float().unsqueeze(1)\n",
    "        # compute prediction error\n",
    "        optimizer.zero_grad()\n",
    "\n",
    "        pred = model(X)\n",
    "\n",
    "        loss = loss_fn(pred, y)\n",
    "\n",
    "        # backpropagation\n",
    "        loss.backward()\n",
    "        optimizer.step()\n",
    "\n",
    "        # if batch % 100 == 0:\n",
    "        loss, current = loss.item(), current + len(X)\n",
    "        print(f\"batch: {batch}, loss: {loss:>7f} [{current:>5d}/{size:>5d}]\")"
   ]
  },
  {
   "cell_type": "code",
   "execution_count": 11,
   "metadata": {},
   "outputs": [],
   "source": [
    "def test(dataloader: DataLoader, model, loss_fn):\n",
    "    print(\"Testing...\")\n",
    "    size = len(dataloader.dataset)\n",
    "    print(f\"size: {size}\")\n",
    "    num_batches = len(dataloader)\n",
    "    print(f\"num batches: {num_batches}\")\n",
    "    model.eval()\n",
    "    test_loss, correct = 0, 0\n",
    "    with torch.inference_mode():\n",
    "        for X, y in dataloader:\n",
    "            print(f\"X len: {len(X)}, y len: {len(y)}\")\n",
    "            X, y = X.to(device), y.to(device)\n",
    "            # y = y.float()\n",
    "\n",
    "            pred = model(X)\n",
    "            print(f\"pred: {pred}\")\n",
    "            # y = y.unsqueeze(1)\n",
    "            test_loss += loss_fn(pred, y).item()\n",
    "            correct += (pred.argmax(1) == y).type(torch.float).sum().item()\n",
    "    test_loss /= num_batches\n",
    "    correct /= size\n",
    "    print(f\"Test error: \\n Accuracy: {(100*correct):>0.1f}%, avg loss: {test_loss:>8f} \\n\")"
   ]
  },
  {
   "cell_type": "code",
   "execution_count": 15,
   "metadata": {},
   "outputs": [],
   "source": [
    "def test2(dataloader: DataLoader, model):\n",
    "    print(\"Testing...\")\n",
    "    size = len(dataloader.dataset)\n",
    "    print(f\"size: {size}\")\n",
    "    num_batches = len(dataloader)\n",
    "    print(f\"num batches: {num_batches}\")\n",
    "    model.eval()\n",
    "    correct = 0\n",
    "    total = 0\n",
    "    with torch.inference_mode():\n",
    "        for X, y in dataloader:\n",
    "            X, y = X.to(device), y.to(device)\n",
    "\n",
    "            outputs = model(X)\n",
    "            preds = torch.sigmoid(outputs) > 0.5\n",
    "            correct += (preds.squeeze().long() == y).sum().item()\n",
    "            total += y.size(0)\n",
    "    # print(f\"Test error: \\n Accuracy: {(100*correct):>0.1f}%, avg loss: {test_loss:>8f} \\n\")\n",
    "    print(f\"Test error: \\n Accuracy: {correct / total * 100:.2f}%\")"
   ]
  },
  {
   "cell_type": "code",
   "execution_count": 16,
   "metadata": {},
   "outputs": [
    {
     "name": "stdout",
     "output_type": "stream",
     "text": [
      "-------------- Epoch 1 --------------\n",
      "Training...\n",
      "batch: 0, loss: 0.335904 [   64/ 1445]\n",
      "batch: 1, loss: 0.233896 [  128/ 1445]\n",
      "batch: 2, loss: 0.295977 [  192/ 1445]\n",
      "batch: 3, loss: 0.135441 [  256/ 1445]\n",
      "batch: 4, loss: 0.177442 [  320/ 1445]\n",
      "batch: 5, loss: 0.287407 [  384/ 1445]\n",
      "batch: 6, loss: 0.249577 [  448/ 1445]\n",
      "batch: 7, loss: 0.207789 [  512/ 1445]\n",
      "batch: 8, loss: 0.193997 [  576/ 1445]\n",
      "batch: 9, loss: 0.358491 [  640/ 1445]\n",
      "batch: 10, loss: 0.214308 [  704/ 1445]\n",
      "batch: 11, loss: 0.185759 [  768/ 1445]\n",
      "batch: 12, loss: 0.324032 [  832/ 1445]\n",
      "batch: 13, loss: 0.138799 [  896/ 1445]\n",
      "batch: 14, loss: 0.346555 [  960/ 1445]\n",
      "batch: 15, loss: 0.156637 [ 1024/ 1445]\n",
      "batch: 16, loss: 0.161459 [ 1088/ 1445]\n",
      "batch: 17, loss: 0.136803 [ 1152/ 1445]\n",
      "batch: 18, loss: 0.194188 [ 1216/ 1445]\n",
      "batch: 19, loss: 0.114382 [ 1280/ 1445]\n",
      "batch: 20, loss: 0.236382 [ 1344/ 1445]\n",
      "batch: 21, loss: 0.148737 [ 1408/ 1445]\n",
      "batch: 22, loss: 0.159247 [ 1445/ 1445]\n",
      "Testing...\n",
      "size: 448\n",
      "num batches: 7\n",
      "Test error: \n",
      " Accuracy: 87.72%\n",
      "-------------- Epoch 2 --------------\n",
      "Training...\n",
      "batch: 0, loss: 0.119401 [   64/ 1445]\n",
      "batch: 1, loss: 0.162537 [  128/ 1445]\n",
      "batch: 2, loss: 0.200943 [  192/ 1445]\n",
      "batch: 3, loss: 0.079816 [  256/ 1445]\n",
      "batch: 4, loss: 0.221089 [  320/ 1445]\n",
      "batch: 5, loss: 0.177135 [  384/ 1445]\n",
      "batch: 6, loss: 0.192680 [  448/ 1445]\n",
      "batch: 7, loss: 0.167483 [  512/ 1445]\n",
      "batch: 8, loss: 0.309210 [  576/ 1445]\n",
      "batch: 9, loss: 0.224910 [  640/ 1445]\n",
      "batch: 10, loss: 0.211110 [  704/ 1445]\n",
      "batch: 11, loss: 0.193944 [  768/ 1445]\n",
      "batch: 12, loss: 0.343019 [  832/ 1445]\n",
      "batch: 13, loss: 0.219179 [  896/ 1445]\n",
      "batch: 14, loss: 0.370041 [  960/ 1445]\n",
      "batch: 15, loss: 0.183989 [ 1024/ 1445]\n",
      "batch: 16, loss: 0.100059 [ 1088/ 1445]\n",
      "batch: 17, loss: 0.254417 [ 1152/ 1445]\n",
      "batch: 18, loss: 0.138743 [ 1216/ 1445]\n",
      "batch: 19, loss: 0.169026 [ 1280/ 1445]\n",
      "batch: 20, loss: 0.200254 [ 1344/ 1445]\n",
      "batch: 21, loss: 0.203547 [ 1408/ 1445]\n",
      "batch: 22, loss: 0.080087 [ 1445/ 1445]\n",
      "Testing...\n",
      "size: 448\n",
      "num batches: 7\n",
      "Test error: \n",
      " Accuracy: 89.73%\n",
      "-------------- Epoch 3 --------------\n",
      "Training...\n",
      "batch: 0, loss: 0.084642 [   64/ 1445]\n",
      "batch: 1, loss: 0.161609 [  128/ 1445]\n",
      "batch: 2, loss: 0.060796 [  192/ 1445]\n",
      "batch: 3, loss: 0.276465 [  256/ 1445]\n",
      "batch: 4, loss: 0.194839 [  320/ 1445]\n",
      "batch: 5, loss: 0.276757 [  384/ 1445]\n",
      "batch: 6, loss: 0.130603 [  448/ 1445]\n",
      "batch: 7, loss: 0.092930 [  512/ 1445]\n",
      "batch: 8, loss: 0.164686 [  576/ 1445]\n",
      "batch: 9, loss: 0.183848 [  640/ 1445]\n",
      "batch: 10, loss: 0.081587 [  704/ 1445]\n",
      "batch: 11, loss: 0.174214 [  768/ 1445]\n",
      "batch: 12, loss: 0.053911 [  832/ 1445]\n",
      "batch: 13, loss: 0.188255 [  896/ 1445]\n",
      "batch: 14, loss: 0.295881 [  960/ 1445]\n",
      "batch: 15, loss: 0.066638 [ 1024/ 1445]\n",
      "batch: 16, loss: 0.180983 [ 1088/ 1445]\n",
      "batch: 17, loss: 0.067170 [ 1152/ 1445]\n",
      "batch: 18, loss: 0.191627 [ 1216/ 1445]\n",
      "batch: 19, loss: 0.087603 [ 1280/ 1445]\n",
      "batch: 20, loss: 0.095382 [ 1344/ 1445]\n",
      "batch: 21, loss: 0.054778 [ 1408/ 1445]\n",
      "batch: 22, loss: 0.103548 [ 1445/ 1445]\n",
      "Testing...\n",
      "size: 448\n",
      "num batches: 7\n",
      "Test error: \n",
      " Accuracy: 88.39%\n",
      "-------------- Epoch 4 --------------\n",
      "Training...\n",
      "batch: 0, loss: 0.057506 [   64/ 1445]\n",
      "batch: 1, loss: 0.053677 [  128/ 1445]\n",
      "batch: 2, loss: 0.118676 [  192/ 1445]\n",
      "batch: 3, loss: 0.088479 [  256/ 1445]\n",
      "batch: 4, loss: 0.042659 [  320/ 1445]\n",
      "batch: 5, loss: 0.053993 [  384/ 1445]\n",
      "batch: 6, loss: 0.059960 [  448/ 1445]\n",
      "batch: 7, loss: 0.120945 [  512/ 1445]\n",
      "batch: 8, loss: 0.109022 [  576/ 1445]\n",
      "batch: 9, loss: 0.059365 [  640/ 1445]\n",
      "batch: 10, loss: 0.130545 [  704/ 1445]\n",
      "batch: 11, loss: 0.019221 [  768/ 1445]\n",
      "batch: 12, loss: 0.068455 [  832/ 1445]\n",
      "batch: 13, loss: 0.292949 [  896/ 1445]\n",
      "batch: 14, loss: 0.169743 [  960/ 1445]\n",
      "batch: 15, loss: 0.060802 [ 1024/ 1445]\n",
      "batch: 16, loss: 0.149636 [ 1088/ 1445]\n",
      "batch: 17, loss: 0.224928 [ 1152/ 1445]\n",
      "batch: 18, loss: 0.320570 [ 1216/ 1445]\n",
      "batch: 19, loss: 0.141213 [ 1280/ 1445]\n",
      "batch: 20, loss: 0.088760 [ 1344/ 1445]\n",
      "batch: 21, loss: 0.116348 [ 1408/ 1445]\n",
      "batch: 22, loss: 0.179229 [ 1445/ 1445]\n",
      "Testing...\n",
      "size: 448\n",
      "num batches: 7\n",
      "Test error: \n",
      " Accuracy: 86.61%\n",
      "-------------- Epoch 5 --------------\n",
      "Training...\n",
      "batch: 0, loss: 0.026377 [   64/ 1445]\n",
      "batch: 1, loss: 0.049958 [  128/ 1445]\n",
      "batch: 2, loss: 0.246473 [  192/ 1445]\n",
      "batch: 3, loss: 0.098125 [  256/ 1445]\n",
      "batch: 4, loss: 0.043754 [  320/ 1445]\n",
      "batch: 5, loss: 0.095304 [  384/ 1445]\n",
      "batch: 6, loss: 0.022628 [  448/ 1445]\n",
      "batch: 7, loss: 0.119820 [  512/ 1445]\n",
      "batch: 8, loss: 0.047438 [  576/ 1445]\n",
      "batch: 9, loss: 0.229314 [  640/ 1445]\n",
      "batch: 10, loss: 0.061630 [  704/ 1445]\n",
      "batch: 11, loss: 0.074515 [  768/ 1445]\n",
      "batch: 12, loss: 0.046131 [  832/ 1445]\n",
      "batch: 13, loss: 0.038306 [  896/ 1445]\n",
      "batch: 14, loss: 0.023869 [  960/ 1445]\n",
      "batch: 15, loss: 0.075944 [ 1024/ 1445]\n",
      "batch: 16, loss: 0.024479 [ 1088/ 1445]\n",
      "batch: 17, loss: 0.106028 [ 1152/ 1445]\n",
      "batch: 18, loss: 0.164303 [ 1216/ 1445]\n",
      "batch: 19, loss: 0.097137 [ 1280/ 1445]\n",
      "batch: 20, loss: 0.129710 [ 1344/ 1445]\n",
      "batch: 21, loss: 0.034813 [ 1408/ 1445]\n",
      "batch: 22, loss: 0.094791 [ 1445/ 1445]\n",
      "Testing...\n",
      "size: 448\n",
      "num batches: 7\n",
      "Test error: \n",
      " Accuracy: 89.73%\n",
      "Done!\n"
     ]
    }
   ],
   "source": [
    "epochs = 5\n",
    "\n",
    "for epoch in range(epochs):\n",
    "    print(f\"-------------- Epoch {epoch+1} --------------\")\n",
    "    train(train_dataloader, model, loss_fn, optimizer)\n",
    "    # test(test_dataloader, model, loss_fn)\n",
    "    test2(test_dataloader, model)\n",
    "print(\"Done!\")"
   ]
  },
  {
   "cell_type": "code",
   "execution_count": null,
   "metadata": {},
   "outputs": [],
   "source": [
    "torch.save(model.state_dict(), \"model.pth\")\n",
    "print(\"Saved PyTorch Model State to model.pth\")"
   ]
  },
  {
   "cell_type": "code",
   "execution_count": null,
   "metadata": {},
   "outputs": [],
   "source": [
    "model = NeuralNetwork().to(device)\n",
    "model.load_state_dict(torch.load(\"model.pth\", weights_only=True))"
   ]
  },
  {
   "cell_type": "code",
   "execution_count": 35,
   "metadata": {},
   "outputs": [
    {
     "name": "stdout",
     "output_type": "stream",
     "text": [
      "Predicted class: 1, actual: 1 (probability: 0.97)\n"
     ]
    }
   ],
   "source": [
    "model.eval()\n",
    "x, y = test_data[0][0], test_data[0][1]\n",
    "x = x.to(device).unsqueeze(0)\n",
    "with torch.no_grad():\n",
    "    pred = model(x)\n",
    "    prob = torch.sigmoid(pred).item()\n",
    "    prediction = 1 if prob > 0.5 else 0\n",
    "    print(f\"Predicted class: {prediction}, actual: {y} (probability: {prob:.2f})\")"
   ]
  }
 ],
 "metadata": {
  "kernelspec": {
   "display_name": ".venv",
   "language": "python",
   "name": "python3"
  },
  "language_info": {
   "codemirror_mode": {
    "name": "ipython",
    "version": 3
   },
   "file_extension": ".py",
   "mimetype": "text/x-python",
   "name": "python",
   "nbconvert_exporter": "python",
   "pygments_lexer": "ipython3",
   "version": "3.12.3"
  }
 },
 "nbformat": 4,
 "nbformat_minor": 2
}
