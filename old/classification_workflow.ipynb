{
 "cells": [
  {
   "cell_type": "code",
   "execution_count": null,
   "id": "bad2ab08",
   "metadata": {},
   "outputs": [],
   "source": [
    "import torch\n",
    "from torch import nn\n",
    "from torch.utils.data import DataLoader\n",
    "from torchvision import transforms\n",
    "import os\n",
    "import sys\n",
    "from pathlib import Path\n",
    "import timm\n",
    "import json"
   ]
  },
  {
   "cell_type": "code",
   "execution_count": null,
   "id": "6d94b8ca",
   "metadata": {},
   "outputs": [],
   "source": [
    "# make dataset directory visible as a module\n",
    "modules_path = os.path.abspath(\"..\")\n",
    "if modules_path not in sys.path:\n",
    "    sys.path.append(modules_path)\n",
    "\n",
    "# import dataset\n",
    "from data.FloodNet import FloodNetDataset"
   ]
  },
  {
   "cell_type": "code",
   "execution_count": null,
   "id": "10c93b7a",
   "metadata": {},
   "outputs": [],
   "source": [
    "# setup computing on CUDA if available\n",
    "os.environ[\"CUDA_VISIBLE_DEVICES\"] = \"1\"\n",
    "\n",
    "current_cuda_device = None\n",
    "print(f\"is cuda available: {torch.cuda.is_available()}\")\n",
    "print(f\"cuda device count: {torch.cuda.device_count()}\")\n",
    "current_cuda_device = torch.cuda.current_device()\n",
    "print(f\"current cuda device: {current_cuda_device}\")\n",
    "print(f\"current cuda device name: {torch.cuda.get_device_name(current_cuda_device)}\")\n",
    "\n",
    "device = (\n",
    "    \"cuda\" if torch.cuda.is_available()\n",
    "    else \"mps\" if torch.backends.mps.is_available()\n",
    "    else \"cpu\"\n",
    ")\n",
    "\n",
    "print(f\"Using {device} device\")"
   ]
  },
  {
   "cell_type": "code",
   "execution_count": null,
   "id": "4de3784a",
   "metadata": {},
   "outputs": [],
   "source": [
    "# image transforms pipeline\n",
    "transform = transforms.Compose([\n",
    "    transforms.Resize(299),\n",
    "    transforms.CenterCrop(299),\n",
    "    transforms.ToTensor(),\n",
    "    transforms.Normalize(mean=[0.485, 0.456, 0.406],  # Normalize with ImageNet mean and std\n",
    "                         std=[0.229, 0.224, 0.225])\n",
    "])"
   ]
  },
  {
   "cell_type": "code",
   "execution_count": null,
   "id": "bdbba109",
   "metadata": {},
   "outputs": [],
   "source": [
    "# create train & test dataset objects\n",
    "with open(\"../data/classes.json\", \"r\") as j:\n",
    "    classes = json.load(j)\n",
    "\n",
    "# Create train dataset\n",
    "train_images_dir = Path(\"../data/FloodNet_dataset/train/image\")\n",
    "train_csv_file = Path(\"../data/flood_train_rel_paths.csv\")\n",
    "train_data = FloodNetDataset(annotations_file=train_csv_file, img_dir=train_images_dir, classes=classes, transform=transform)\n",
    "\n",
    "# Create test dataset\n",
    "test_images_dir = Path(\"../data/FloodNet_dataset/test/image\")\n",
    "test_csv_file = Path(\"../data/flood_test_rel_paths.csv\")\n",
    "test_data = FloodNetDataset(annotations_file=test_csv_file, img_dir=test_images_dir, classes=classes, transform=transform)"
   ]
  },
  {
   "cell_type": "code",
   "execution_count": null,
   "id": "3fcfc053",
   "metadata": {},
   "outputs": [],
   "source": [
    "# create dataloaders\n",
    "BATCH_SIZE = 64\n",
    "\n",
    "train_dataloader = DataLoader(train_data, batch_size=BATCH_SIZE, shuffle=True)\n",
    "test_dataloader = DataLoader(test_data, batch_size=BATCH_SIZE, shuffle=False)"
   ]
  },
  {
   "cell_type": "code",
   "execution_count": null,
   "id": "ca63695b",
   "metadata": {},
   "outputs": [],
   "source": []
  }
 ],
 "metadata": {
  "language_info": {
   "name": "python"
  }
 },
 "nbformat": 4,
 "nbformat_minor": 5
}
