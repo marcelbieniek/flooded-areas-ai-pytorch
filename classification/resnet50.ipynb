{
 "cells": [
  {
   "cell_type": "code",
   "execution_count": null,
   "metadata": {},
   "outputs": [],
   "source": [
    "import torch\n",
    "from torch import nn\n",
    "from torch.utils.data import DataLoader\n",
    "from torchvision import transforms\n",
    "import os\n",
    "import sys\n",
    "from pathlib import Path"
   ]
  },
  {
   "cell_type": "code",
   "execution_count": null,
   "metadata": {},
   "outputs": [],
   "source": [
    "os.environ[\"CUDA_VISIBLE_DEVICES\"] = \"2\"\n",
    "\n",
    "current_cuda_device = None\n",
    "print(f\"is cuda available: {torch.cuda.is_available()}\")\n",
    "print(f\"cuda device count: {torch.cuda.device_count()}\")\n",
    "current_cuda_device = torch.cuda.current_device()\n",
    "print(f\"current cuda device: {current_cuda_device}\")\n",
    "print(f\"current cuda device name: {torch.cuda.get_device_name(current_cuda_device)}\")\n",
    "\n",
    "device = (\n",
    "    \"cuda\" if torch.cuda.is_available()\n",
    "    else \"mps\" if torch.backends.mps.is_available()\n",
    "    else \"cpu\"\n",
    ")\n",
    "\n",
    "print(f\"Using {device} device\")"
   ]
  },
  {
   "cell_type": "code",
   "execution_count": null,
   "metadata": {},
   "outputs": [],
   "source": [
    "modules_path = os.path.abspath(\"..\")\n",
    "if modules_path not in sys.path:\n",
    "    sys.path.append(modules_path)\n",
    "\n",
    "from data.FloodNet import FloodNetDataset"
   ]
  },
  {
   "cell_type": "code",
   "execution_count": null,
   "metadata": {},
   "outputs": [],
   "source": [
    "transform = transforms.Compose([\n",
    "    transforms.Resize(299),\n",
    "    transforms.CenterCrop(299),\n",
    "    transforms.ToTensor(),\n",
    "    transforms.Normalize(mean=[0.485, 0.456, 0.406],  # Normalize with ImageNet mean and std\n",
    "                         std=[0.229, 0.224, 0.225])\n",
    "])"
   ]
  },
  {
   "cell_type": "code",
   "execution_count": null,
   "metadata": {},
   "outputs": [],
   "source": [
    "# Create train dataset\n",
    "train_images_dir = Path(\"../data/FloodNet_dataset/train/image\")\n",
    "train_csv_file = Path(\"../data/flood_train_rel_paths.csv\")\n",
    "train_data = FloodNetDataset(annotations_file=train_csv_file, img_dir=train_images_dir, transform=transform)\n",
    "\n",
    "# Create test dataset\n",
    "test_images_dir = Path(\"../data/FloodNet_dataset/test/image\")\n",
    "test_csv_file = Path(\"../data/flood_test_rel_paths.csv\")\n",
    "test_data = FloodNetDataset(annotations_file=test_csv_file, img_dir=test_images_dir, transform=transform)"
   ]
  },
  {
   "cell_type": "code",
   "execution_count": null,
   "metadata": {},
   "outputs": [],
   "source": [
    "batch_size = 64\n",
    "\n",
    "train_dataloader = DataLoader(train_data, batch_size=batch_size, shuffle=True)\n",
    "test_dataloader = DataLoader(test_data, batch_size=batch_size, shuffle=False)"
   ]
  },
  {
   "cell_type": "code",
   "execution_count": null,
   "metadata": {},
   "outputs": [],
   "source": [
    "for X, y in train_dataloader:\n",
    "    # print(X)\n",
    "    print(f\"Shape of X [N, C, H, W]: {X.shape}\")\n",
    "    print(f\"Shape of y: {y.shape} {y.dtype}\")\n",
    "    break"
   ]
  },
  {
   "cell_type": "code",
   "execution_count": null,
   "metadata": {},
   "outputs": [],
   "source": [
    "model = torch.hub.load('pytorch/vision:v0.10.0', 'resnet50', pretrained=True)\n",
    "model.eval()"
   ]
  },
  {
   "cell_type": "code",
   "execution_count": null,
   "metadata": {},
   "outputs": [],
   "source": [
    "# modyfing ResNet50 for binary classification\n",
    "\n",
    "model.fc = nn.Linear(model.fc.in_features, 1)  # Binary classification"
   ]
  },
  {
   "cell_type": "code",
   "execution_count": null,
   "metadata": {},
   "outputs": [],
   "source": [
    "model = model.to(device)\n",
    "print(model)"
   ]
  },
  {
   "cell_type": "code",
   "execution_count": null,
   "metadata": {},
   "outputs": [],
   "source": [
    "loss_fn = nn.BCEWithLogitsLoss()\n",
    "optimizer = torch.optim.Adam(model.parameters(), lr=0.001)"
   ]
  },
  {
   "cell_type": "code",
   "execution_count": null,
   "metadata": {},
   "outputs": [],
   "source": [
    "def train(dataloader: DataLoader, model, loss_fn, optimizer):\n",
    "    print(\"Training...\")\n",
    "    size = len(dataloader.dataset)\n",
    "    current = 0\n",
    "    model.train()\n",
    "    # print(f\"num batches: {len(dataloader)}\")\n",
    "    for batch, (X, y) in enumerate(dataloader):\n",
    "        X, y = X.to(device), y.to(device).float().unsqueeze(1)\n",
    "        # compute prediction error\n",
    "        optimizer.zero_grad()\n",
    "\n",
    "        outputs = model(X)\n",
    "\n",
    "        loss = loss_fn(outputs, y)\n",
    "\n",
    "        # backpropagation\n",
    "        loss.backward()\n",
    "        optimizer.step()\n",
    "\n",
    "        # if batch % 100 == 0:\n",
    "        loss, current = loss.item(), current + len(X)\n",
    "        print(f\"batch: {batch}, loss: {loss:>7f} [{current:>5d}/{size:>5d}]\")"
   ]
  },
  {
   "cell_type": "code",
   "execution_count": null,
   "metadata": {},
   "outputs": [],
   "source": [
    "def test(dataloader: DataLoader, model):\n",
    "    print(\"Testing...\")\n",
    "    size = len(dataloader.dataset)\n",
    "    # print(f\"size: {size}\")\n",
    "    num_batches = len(dataloader)\n",
    "    # print(f\"num batches: {num_batches}\")\n",
    "    model.eval()\n",
    "    correct = 0\n",
    "    total = 0\n",
    "    with torch.inference_mode():\n",
    "        for X, y in dataloader:\n",
    "            X, y = X.to(device), y.to(device)\n",
    "\n",
    "            outputs = model(X)\n",
    "            preds = torch.sigmoid(outputs) > 0.5\n",
    "            correct += (preds.squeeze().long() == y).sum().item()\n",
    "            total += y.size(0)\n",
    "    # print(f\"Test error: \\n Accuracy: {(100*correct):>0.1f}%, avg loss: {test_loss:>8f} \\n\")\n",
    "    print(f\"Test error: \\n Accuracy: {correct / total * 100:.2f}%\")"
   ]
  },
  {
   "cell_type": "code",
   "execution_count": null,
   "metadata": {},
   "outputs": [],
   "source": [
    "epochs = 10\n",
    "\n",
    "for epoch in range(epochs):\n",
    "    print(f\"-------------- Epoch {epoch+1} --------------\")\n",
    "    train(train_dataloader, model, loss_fn, optimizer)\n",
    "    test(test_dataloader, model)\n",
    "print(\"Done!\")"
   ]
  },
  {
   "cell_type": "code",
   "execution_count": null,
   "metadata": {},
   "outputs": [],
   "source": [
    "from torchinfo import summary\n",
    "summary(model, input_size=[1, 3, 299, 299])"
   ]
  }
 ],
 "metadata": {
  "kernelspec": {
   "display_name": ".venv",
   "language": "python",
   "name": "python3"
  },
  "language_info": {
   "codemirror_mode": {
    "name": "ipython",
    "version": 3
   },
   "file_extension": ".py",
   "mimetype": "text/x-python",
   "name": "python",
   "nbconvert_exporter": "python",
   "pygments_lexer": "ipython3",
   "version": "3.8.10"
  }
 },
 "nbformat": 4,
 "nbformat_minor": 2
}
