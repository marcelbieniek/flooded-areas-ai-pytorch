{
 "cells": [
  {
   "cell_type": "code",
   "execution_count": null,
   "metadata": {},
   "outputs": [],
   "source": [
    "import os\n",
    "from pathlib import Path\n",
    "import json\n",
    "import csv\n",
    "import numpy as np\n",
    "from PIL import Image, ImageFile"
   ]
  },
  {
   "cell_type": "code",
   "execution_count": null,
   "metadata": {},
   "outputs": [],
   "source": [
    "def get_features(label: ImageFile) -> dict:\n",
    "    label_data = np.array(label)\n",
    "    values, counts = np.unique(label_data, return_counts=True)\n",
    "    return dict(zip(values, counts))"
   ]
  },
  {
   "cell_type": "code",
   "execution_count": null,
   "metadata": {},
   "outputs": [],
   "source": [
    "def is_area_flooded(label: ImageFile, classes) -> int:\n",
    "    width, height = label.size\n",
    "    total_pixels = width * height\n",
    "    features = get_features(label)\n",
    "\n",
    "    flood_level = 0\n",
    "    for feature in features:\n",
    "        if feature == classes['Building-flooded'] or feature == classes['Road-flooded'] or feature == classes['Water']:\n",
    "            flood_level = flood_level + features[feature]\n",
    "\n",
    "    area_flooded = flood_level / total_pixels\n",
    "    return 1 if area_flooded >= 0.3 else 0"
   ]
  },
  {
   "cell_type": "code",
   "execution_count": null,
   "metadata": {},
   "outputs": [],
   "source": [
    "class StatsCollector():\n",
    "    def __init__(self, stats_structure: dict):\n",
    "        self.stats = stats_structure\n",
    "    \n",
    "    def get_stat(self, stat_path: str, separator: str = \".\"):\n",
    "        keys = stat_path.split(separator)\n",
    "        stat = self.stats\n",
    "\n",
    "        try:\n",
    "            for key in keys:\n",
    "                # Check if the key represents a list index\n",
    "                if key.isdigit():\n",
    "                    key = int(key)  # Convert key to integer for list indexing\n",
    "                stat = stat[key]  # Navigate through the structure (dict or list)\n",
    "            return stat\n",
    "        except (KeyError, IndexError, TypeError):\n",
    "            return None  # Return None if any key/index is invalid\n",
    "\n",
    "    def inc_stat(self, stat_path: str, separator: str = \".\"):\n",
    "        keys = stat_path.split(separator)\n",
    "        stat = self.stats\n",
    "\n",
    "        try:\n",
    "            for key in keys[:-1]:\n",
    "                # Check if the key represents a list index\n",
    "                if key.isdigit():\n",
    "                    key = int(key)  # Convert key to integer for list indexing\n",
    "                stat = stat[key]  # Navigate through the structure (dict or list)\n",
    "            \n",
    "            last_key = keys[-1]\n",
    "            if last_key.isdigit():\n",
    "                last_key = int(last_key)\n",
    "            stat[last_key] = stat[last_key] + 1\n",
    "            return True\n",
    "        except (KeyError, IndexError, TypeError):\n",
    "            return False  # Return None if any key/index is invalid\n",
    "\n",
    "    def save_stats_to_csv(filename):\n",
    "        pass"
   ]
  },
  {
   "cell_type": "code",
   "execution_count": 92,
   "metadata": {},
   "outputs": [],
   "source": [
    "# create stats tree structure\n",
    "with open(\"classes.json\", \"r\") as j:\n",
    "    classes = json.load(j)\n",
    "    class_count_dict = {key: 0 for key in classes.keys()}\n",
    "\n",
    "flood_stats = StatsCollector({\n",
    "    \"train\": {\n",
    "        \"images\": 0,\n",
    "        \"flooded\": 0,\n",
    "        \"non_flooded\": 0,\n",
    "        \"classes\": class_count_dict\n",
    "    },\n",
    "    \"test\": {\n",
    "        \"images\": 0,\n",
    "        \"flooded\": 0,\n",
    "        \"non_flooded\": 0,\n",
    "        \"classes\": class_count_dict\n",
    "    },\n",
    "    \"val\": {\n",
    "        \"images\": 0,\n",
    "        \"flooded\": 0,\n",
    "        \"non_flooded\": 0,\n",
    "        \"classes\": class_count_dict\n",
    "    }\n",
    "})"
   ]
  },
  {
   "cell_type": "code",
   "execution_count": 97,
   "metadata": {},
   "outputs": [
    {
     "name": "stdout",
     "output_type": "stream",
     "text": [
      "4\n",
      "True\n",
      "5\n"
     ]
    }
   ],
   "source": [
    "print(flood_stats.get_stat(\"test.images\"))\n",
    "print(flood_stats.inc_stat(\"test.images\"))\n",
    "print(flood_stats.get_stat(\"test.images\"))"
   ]
  },
  {
   "cell_type": "code",
   "execution_count": null,
   "metadata": {},
   "outputs": [],
   "source": [
    "# set path variables\n",
    "root_dir = Path(\"FloodNet_dataset/\")\n",
    "classes_json_path = Path(\"classes.json\")\n",
    "data_types = [\"train\", \"test\", \"val\"]\n",
    "\n",
    "with open(classes_json_path, \"r\") as j:\n",
    "    classes = json.load(j)\n",
    "\n",
    "for data_type in data_types:\n",
    "    fieldnames = ['image', 'is_flooded']\n",
    "\n",
    "    with open(f'flood_{data_type}_rel_paths.csv', 'w', newline='') as csvfile:\n",
    "        writer = csv.DictWriter(csvfile, fieldnames=fieldnames)\n",
    "        writer.writeheader()\n",
    "        img_dir_path = Path(f\"{root_dir}/{data_type}/image/\")\n",
    "        label_dir_path = Path(f\"{root_dir}/{data_type}/label/\")\n",
    "\n",
    "        for f in os.listdir(label_dir_path):\n",
    "            print(f\"--------------- {f} ---------------\")\n",
    "\n",
    "            label_path = os.path.join(label_dir_path, f)\n",
    "            label = Image.open(label_path)\n",
    "\n",
    "            is_flooded = is_area_flooded(label, classes)\n",
    "            \n",
    "            image_name = f.replace(\"_lab.png\", \".jpg\")\n",
    "            image_full_path = os.path.join(img_dir_path, image_name)\n",
    "            image_rel_path = os.path.relpath(image_full_path, root_dir)\n",
    "            \n",
    "            print(f\"image: {image_name}, is flooded: {is_flooded}\")\n",
    "            writer.writerow({fieldnames[0]: image_name, fieldnames[1]: is_flooded})\n"
   ]
  }
 ],
 "metadata": {
  "kernelspec": {
   "display_name": ".venv",
   "language": "python",
   "name": "python3"
  },
  "language_info": {
   "codemirror_mode": {
    "name": "ipython",
    "version": 3
   },
   "file_extension": ".py",
   "mimetype": "text/x-python",
   "name": "python",
   "nbconvert_exporter": "python",
   "pygments_lexer": "ipython3",
   "version": "3.12.3"
  }
 },
 "nbformat": 4,
 "nbformat_minor": 2
}
