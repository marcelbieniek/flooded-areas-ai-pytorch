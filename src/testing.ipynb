{
 "cells": [
  {
   "cell_type": "code",
   "execution_count": 5,
   "id": "14da6de4",
   "metadata": {},
   "outputs": [],
   "source": [
    "import os\n",
    "\n",
    "import torch\n",
    "from torchinfo import summary\n",
    "\n",
    "from utils.Config import Config\n"
   ]
  },
  {
   "cell_type": "code",
   "execution_count": null,
   "id": "f44f0036",
   "metadata": {},
   "outputs": [
    {
     "name": "stdout",
     "output_type": "stream",
     "text": [
      "is cuda available: True\n",
      "cuda device count: 8\n",
      "current cuda device: 0\n",
      "current cuda device name: NVIDIA A40\n",
      "Using cuda device\n"
     ]
    },
    {
     "name": "stderr",
     "output_type": "stream",
     "text": [
      "Using cache found in /home/s180366/.cache/torch/hub/pytorch_vision_v0.10.0\n",
      "/home/s180366/raid/flooded-areas-ai-pytorch/.venv/lib/python3.8/site-packages/torchvision/models/_utils.py:208: UserWarning: The parameter 'pretrained' is deprecated since 0.13 and may be removed in the future, please use 'weights' instead.\n",
      "  warnings.warn(\n",
      "/home/s180366/raid/flooded-areas-ai-pytorch/.venv/lib/python3.8/site-packages/torchvision/models/_utils.py:223: UserWarning: Arguments other than a weight enum or `None` for 'weights' are deprecated since 0.13 and may be removed in the future. The current behavior is equivalent to passing `weights=DeepLabV3_ResNet101_Weights.COCO_WITH_VOC_LABELS_V1`. You can also use `weights=DeepLabV3_ResNet101_Weights.DEFAULT` to get the most up-to-date weights.\n",
      "  warnings.warn(msg)\n"
     ]
    }
   ],
   "source": [
    "# os.environ[\"CUDA_VISIBLE_DEVICES\"] = \"1\"\n",
    "\n",
    "current_cuda_device = None\n",
    "print(f\"is cuda available: {torch.cuda.is_available()}\")\n",
    "print(f\"cuda device count: {torch.cuda.device_count()}\")\n",
    "current_cuda_device = torch.cuda.current_device()\n",
    "print(f\"current cuda device: {current_cuda_device}\")\n",
    "print(f\"current cuda device name: {torch.cuda.get_device_name(current_cuda_device)}\")\n",
    "\n",
    "device = (\n",
    "    \"cuda\" if torch.cuda.is_available()\n",
    "    else \"mps\" if torch.backends.mps.is_available()\n",
    "    else \"cpu\"\n",
    ")\n",
    "\n",
    "print(f\"Using {device} device\")\n",
    "\n",
    "config = Config(\"../configs/segmentation/pspnet_dice.yaml\")\n",
    "# config.model.move_to_device(device)\n",
    "# config.model.load_model(\"classification_inceptionnetv3_bce.pth\")"
   ]
  },
  {
   "cell_type": "code",
   "execution_count": 7,
   "id": "bb4366cc",
   "metadata": {},
   "outputs": [
    {
     "data": {
      "text/plain": [
       "====================================================================================================\n",
       "Layer (type:depth-idx)                             Output Shape              Param #\n",
       "====================================================================================================\n",
       "DeepLabV3                                          [1, 21, 320, 320]         --\n",
       "├─IntermediateLayerGetter: 1-1                     [1, 2048, 40, 40]         --\n",
       "│    └─Conv2d: 2-1                                 [1, 64, 160, 160]         9,408\n",
       "│    └─BatchNorm2d: 2-2                            [1, 64, 160, 160]         128\n",
       "│    └─ReLU: 2-3                                   [1, 64, 160, 160]         --\n",
       "│    └─MaxPool2d: 2-4                              [1, 64, 80, 80]           --\n",
       "│    └─Sequential: 2-5                             [1, 256, 80, 80]          --\n",
       "│    │    └─Bottleneck: 3-1                        [1, 256, 80, 80]          75,008\n",
       "│    │    └─Bottleneck: 3-2                        [1, 256, 80, 80]          70,400\n",
       "│    │    └─Bottleneck: 3-3                        [1, 256, 80, 80]          70,400\n",
       "│    └─Sequential: 2-6                             [1, 512, 40, 40]          --\n",
       "│    │    └─Bottleneck: 3-4                        [1, 512, 40, 40]          379,392\n",
       "│    │    └─Bottleneck: 3-5                        [1, 512, 40, 40]          280,064\n",
       "│    │    └─Bottleneck: 3-6                        [1, 512, 40, 40]          280,064\n",
       "│    │    └─Bottleneck: 3-7                        [1, 512, 40, 40]          280,064\n",
       "│    └─Sequential: 2-7                             [1, 1024, 40, 40]         --\n",
       "│    │    └─Bottleneck: 3-8                        [1, 1024, 40, 40]         1,512,448\n",
       "│    │    └─Bottleneck: 3-9                        [1, 1024, 40, 40]         1,117,184\n",
       "│    │    └─Bottleneck: 3-10                       [1, 1024, 40, 40]         1,117,184\n",
       "│    │    └─Bottleneck: 3-11                       [1, 1024, 40, 40]         1,117,184\n",
       "│    │    └─Bottleneck: 3-12                       [1, 1024, 40, 40]         1,117,184\n",
       "│    │    └─Bottleneck: 3-13                       [1, 1024, 40, 40]         1,117,184\n",
       "│    │    └─Bottleneck: 3-14                       [1, 1024, 40, 40]         1,117,184\n",
       "│    │    └─Bottleneck: 3-15                       [1, 1024, 40, 40]         1,117,184\n",
       "│    │    └─Bottleneck: 3-16                       [1, 1024, 40, 40]         1,117,184\n",
       "│    │    └─Bottleneck: 3-17                       [1, 1024, 40, 40]         1,117,184\n",
       "│    │    └─Bottleneck: 3-18                       [1, 1024, 40, 40]         1,117,184\n",
       "│    │    └─Bottleneck: 3-19                       [1, 1024, 40, 40]         1,117,184\n",
       "│    │    └─Bottleneck: 3-20                       [1, 1024, 40, 40]         1,117,184\n",
       "│    │    └─Bottleneck: 3-21                       [1, 1024, 40, 40]         1,117,184\n",
       "│    │    └─Bottleneck: 3-22                       [1, 1024, 40, 40]         1,117,184\n",
       "│    │    └─Bottleneck: 3-23                       [1, 1024, 40, 40]         1,117,184\n",
       "│    │    └─Bottleneck: 3-24                       [1, 1024, 40, 40]         1,117,184\n",
       "│    │    └─Bottleneck: 3-25                       [1, 1024, 40, 40]         1,117,184\n",
       "│    │    └─Bottleneck: 3-26                       [1, 1024, 40, 40]         1,117,184\n",
       "│    │    └─Bottleneck: 3-27                       [1, 1024, 40, 40]         1,117,184\n",
       "│    │    └─Bottleneck: 3-28                       [1, 1024, 40, 40]         1,117,184\n",
       "│    │    └─Bottleneck: 3-29                       [1, 1024, 40, 40]         1,117,184\n",
       "│    │    └─Bottleneck: 3-30                       [1, 1024, 40, 40]         1,117,184\n",
       "│    └─Sequential: 2-8                             [1, 2048, 40, 40]         --\n",
       "│    │    └─Bottleneck: 3-31                       [1, 2048, 40, 40]         6,039,552\n",
       "│    │    └─Bottleneck: 3-32                       [1, 2048, 40, 40]         4,462,592\n",
       "│    │    └─Bottleneck: 3-33                       [1, 2048, 40, 40]         4,462,592\n",
       "├─DeepLabHead: 1-2                                 [1, 10, 40, 40]           --\n",
       "│    └─ASPP: 2-9                                   [1, 256, 40, 40]          --\n",
       "│    │    └─ModuleList: 3-34                       --                        15,206,912\n",
       "│    │    └─Sequential: 3-35                       [1, 256, 40, 40]          328,192\n",
       "│    └─Conv2d: 2-10                                [1, 256, 40, 40]          589,824\n",
       "│    └─BatchNorm2d: 2-11                           [1, 256, 40, 40]          512\n",
       "│    └─ReLU: 2-12                                  [1, 256, 40, 40]          --\n",
       "│    └─Conv2d: 2-13                                [1, 10, 40, 40]           2,570\n",
       "├─FCNHead: 1-3                                     [1, 21, 40, 40]           --\n",
       "│    └─Conv2d: 2-14                                [1, 256, 40, 40]          2,359,296\n",
       "│    └─BatchNorm2d: 2-15                           [1, 256, 40, 40]          512\n",
       "│    └─ReLU: 2-16                                  [1, 256, 40, 40]          --\n",
       "│    └─Dropout: 2-17                               [1, 256, 40, 40]          --\n",
       "│    └─Conv2d: 2-18                                [1, 21, 40, 40]           5,397\n",
       "====================================================================================================\n",
       "Total params: 60,993,375\n",
       "Trainable params: 60,993,375\n",
       "Non-trainable params: 0\n",
       "Total mult-adds (G): 97.98\n",
       "====================================================================================================\n",
       "Input size (MB): 1.23\n",
       "Forward/backward pass size (MB): 1537.22\n",
       "Params size (MB): 243.97\n",
       "Estimated Total Size (MB): 1782.42\n",
       "===================================================================================================="
      ]
     },
     "execution_count": 7,
     "metadata": {},
     "output_type": "execute_result"
    }
   ],
   "source": [
    "summary(config.model.model, input_size=[1, 3, 320, 320], device=\"cpu\")"
   ]
  }
 ],
 "metadata": {
  "kernelspec": {
   "display_name": ".venv",
   "language": "python",
   "name": "python3"
  },
  "language_info": {
   "codemirror_mode": {
    "name": "ipython",
    "version": 3
   },
   "file_extension": ".py",
   "mimetype": "text/x-python",
   "name": "python",
   "nbconvert_exporter": "python",
   "pygments_lexer": "ipython3",
   "version": "3.8.10"
  }
 },
 "nbformat": 4,
 "nbformat_minor": 5
}
