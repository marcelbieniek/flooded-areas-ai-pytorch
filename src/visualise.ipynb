{
 "cells": [
  {
   "cell_type": "code",
   "execution_count": 13,
   "id": "f3c4e9c9",
   "metadata": {},
   "outputs": [],
   "source": [
    "from dataloaders.dataloader import get_floodnet_dataloader\n",
    "from utils.transforms import *"
   ]
  },
  {
   "cell_type": "code",
   "execution_count": 14,
   "id": "8d634dc3",
   "metadata": {},
   "outputs": [],
   "source": [
    "test_data = get_floodnet_dataloader(inputs_path=\"../dataset/FloodNet_dataset/test/image\",\n",
    "                                    targets_path=\"../dataset/FloodNet_dataset/test/label\",\n",
    "                                    transforms=[segmentation_image_tf, segmentation_mask_tf],\n",
    "                                    batch_size=1,\n",
    "                                    shuffle=False)"
   ]
  },
  {
   "cell_type": "code",
   "execution_count": 18,
   "id": "2f7168a6",
   "metadata": {},
   "outputs": [
    {
     "name": "stdout",
     "output_type": "stream",
     "text": [
      "tensor([[[[-0.3883, -0.1828, -0.1657,  ..., -0.7650, -0.9363, -0.9363],\n",
      "          [-0.2513,  0.0227, -0.2684,  ..., -0.7822, -0.9705, -1.0048],\n",
      "          [-0.1828, -0.0116, -0.1486,  ..., -0.8678, -1.0048, -1.0219],\n",
      "          ...,\n",
      "          [-1.2274, -1.1932, -1.1589,  ..., -0.2856, -0.1657, -0.1486],\n",
      "          [-1.1418, -1.1589, -1.0904,  ..., -0.2856, -0.1828, -0.0972],\n",
      "          [-1.2103, -1.2617, -1.1075,  ..., -0.1999, -0.2342, -0.0458]],\n",
      "\n",
      "         [[-0.3025, -0.1625, -0.1275,  ..., -1.0203, -1.1429, -1.1429],\n",
      "          [-0.2850,  0.0126, -0.1625,  ..., -1.0553, -1.1954, -1.1954],\n",
      "          [-0.2675, -0.0749, -0.1275,  ..., -1.0903, -1.1954, -1.1954],\n",
      "          ...,\n",
      "          [-0.8102, -0.6877, -0.6001,  ..., -0.6527, -0.5651, -0.5301],\n",
      "          [-0.7052, -0.7052, -0.5301,  ..., -0.6352, -0.5301, -0.4601],\n",
      "          [-0.6877, -0.7752, -0.5651,  ..., -0.5301, -0.5826, -0.4601]],\n",
      "\n",
      "         [[-1.3339, -1.2293, -1.2119,  ..., -1.2990, -1.2119, -1.2119],\n",
      "          [-1.2467, -1.0376, -1.3164,  ..., -1.2641, -1.2293, -1.2119],\n",
      "          [-1.1944, -1.1073, -1.2467,  ..., -1.2641, -1.2293, -1.1944],\n",
      "          ...,\n",
      "          [-1.6127, -1.6127, -1.6302,  ..., -1.0376, -0.8981, -0.8633],\n",
      "          [-1.5953, -1.5779, -1.6127,  ..., -1.0376, -0.9156, -0.8981],\n",
      "          [-1.5953, -1.5953, -1.5779,  ..., -1.0027, -0.9853, -0.9330]]]])\n",
      "tensor([[[[9, 9, 9,  ..., 5, 5, 5],\n",
      "          [9, 9, 9,  ..., 5, 5, 5],\n",
      "          [9, 9, 9,  ..., 5, 5, 5],\n",
      "          ...,\n",
      "          [9, 9, 9,  ..., 5, 5, 5],\n",
      "          [9, 9, 9,  ..., 5, 5, 5],\n",
      "          [9, 9, 9,  ..., 6, 6, 6]]]])\n"
     ]
    }
   ],
   "source": [
    "for X, y in test_data:\n",
    "    print(X)\n",
    "    print(y)\n",
    "    break"
   ]
  }
 ],
 "metadata": {
  "kernelspec": {
   "display_name": ".venv",
   "language": "python",
   "name": "python3"
  },
  "language_info": {
   "codemirror_mode": {
    "name": "ipython",
    "version": 3
   },
   "file_extension": ".py",
   "mimetype": "text/x-python",
   "name": "python",
   "nbconvert_exporter": "python",
   "pygments_lexer": "ipython3",
   "version": "3.8.10"
  }
 },
 "nbformat": 4,
 "nbformat_minor": 5
}
